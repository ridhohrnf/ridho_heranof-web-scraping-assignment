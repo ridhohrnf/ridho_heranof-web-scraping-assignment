{
  "cells": [
    {
      "cell_type": "code",
      "execution_count": 1,
      "metadata": {
        "id": "TryMeCwGYO9K"
      },
      "outputs": [],
      "source": [
        "import requests\n",
        "import pandas as pd"
      ]
    },
    {
      "cell_type": "code",
      "execution_count": 2,
      "metadata": {
        "id": "nZVD2bi-YSOl"
      },
      "outputs": [],
      "source": [
        "from bs4 import BeautifulSoup"
      ]
    },
    {
      "cell_type": "code",
      "execution_count": 3,
      "metadata": {
        "id": "R9fAEdM9YU2Z"
      },
      "outputs": [],
      "source": [
        "#variable tahun\n",
        "years = list(range(2022,2021,-1))"
      ]
    },
    {
      "cell_type": "code",
      "execution_count": 4,
      "metadata": {
        "id": "__82zwZXYaNo"
      },
      "outputs": [],
      "source": [
        "#variable kosong untuk menampung hasil scrapping\n",
        "all_matches=[]"
      ]
    },
    {
      "cell_type": "code",
      "execution_count": 5,
      "metadata": {
        "id": "s9aNA406YcGt"
      },
      "outputs": [],
      "source": [
        "standings_url =\"https://fbref.com/en/comps/9/Premier-League-Stats\""
      ]
    },
    {
      "cell_type": "code",
      "execution_count": 6,
      "metadata": {
        "id": "e2_0e1BrYefH"
      },
      "outputs": [],
      "source": [
        "for year in years:\n",
        "  data= requests.get(standings_url)\n",
        "  soup=BeautifulSoup(data.text)\n",
        "  standings_table = soup.select('table.stats_table')[0]\n",
        "  links = [l.get(\"href\") for l in standings_table.find_all('a')]\n",
        "  links = [l for l in links if'/squads/' in l]\n",
        "  team_urls = [f\"https://fbref.com{l}\" for l in links]"
      ]
    },
    {
      "cell_type": "code",
      "execution_count": 7,
      "metadata": {
        "colab": {
          "base_uri": "https://localhost:8080/"
        },
        "id": "co04C_0IYgdY",
        "outputId": "d2a5942d-0396-4be2-f12b-5504356c55e0"
      },
      "outputs": [
        {
          "data": {
            "text/plain": [
              "['https://fbref.com/en/squads/822bd0ba/Liverpool-Stats',\n",
              " 'https://fbref.com/en/squads/b8fd03ef/Manchester-City-Stats',\n",
              " 'https://fbref.com/en/squads/18bb7c10/Arsenal-Stats',\n",
              " 'https://fbref.com/en/squads/361ca564/Tottenham-Hotspur-Stats',\n",
              " 'https://fbref.com/en/squads/8602292d/Aston-Villa-Stats',\n",
              " 'https://fbref.com/en/squads/19538871/Manchester-United-Stats',\n",
              " 'https://fbref.com/en/squads/b2b47a98/Newcastle-United-Stats',\n",
              " 'https://fbref.com/en/squads/7c21e445/West-Ham-United-Stats',\n",
              " 'https://fbref.com/en/squads/d07537b9/Brighton-and-Hove-Albion-Stats',\n",
              " 'https://fbref.com/en/squads/cff3d9bb/Chelsea-Stats',\n",
              " 'https://fbref.com/en/squads/8cec06e1/Wolverhampton-Wanderers-Stats',\n",
              " 'https://fbref.com/en/squads/fd962109/Fulham-Stats',\n",
              " 'https://fbref.com/en/squads/4ba7cbea/Bournemouth-Stats',\n",
              " 'https://fbref.com/en/squads/cd051869/Brentford-Stats',\n",
              " 'https://fbref.com/en/squads/47c64c55/Crystal-Palace-Stats',\n",
              " 'https://fbref.com/en/squads/e4a775cb/Nottingham-Forest-Stats',\n",
              " 'https://fbref.com/en/squads/e297cd13/Luton-Town-Stats',\n",
              " 'https://fbref.com/en/squads/d3fd31cc/Everton-Stats',\n",
              " 'https://fbref.com/en/squads/943e8050/Burnley-Stats',\n",
              " 'https://fbref.com/en/squads/1df6b87e/Sheffield-United-Stats']"
            ]
          },
          "execution_count": 7,
          "metadata": {},
          "output_type": "execute_result"
        }
      ],
      "source": [
        "team_urls"
      ]
    },
    {
      "cell_type": "code",
      "execution_count": 8,
      "metadata": {
        "id": "S1BUvKvuYh3U"
      },
      "outputs": [],
      "source": [
        "import time\n",
        "\n",
        "for year in years:\n",
        "  data= requests.get(standings_url)\n",
        "  soup = BeautifulSoup(data.text)\n",
        "  standings_table = soup.select('table.stats_table')[0]\n",
        "\n",
        "  links = [l.get(\"href\") for l in standings_table.find_all('a')]\n",
        "  links = [l for l in links if '/squads/' in l]\n",
        "  team_urls = [f\"https://fbref.com{l}\" for l in links]\n",
        "\n",
        "  for team_url in team_urls:\n",
        "    team_name = team_url.split(\"/\")[-1].replace(\"-Stats\",\"\").replace(\"-\",\" \")\n",
        "\n",
        "    data = requests.get(team_url)\n",
        "    matches = pd.read_html(data.text, match=\"Scores & Fixtures\")[0]\n",
        "\n",
        "    soup = BeautifulSoup(data.text)\n",
        "    links = [l.get(\"href\") for l in soup.find_all('a')]\n",
        "    links = [l for l in links if l and '/all_comps/shooting' in l]\n",
        "    links = f\"https://fbref.com{links[0]}\"\n",
        "    data1 = requests.get(links)\n",
        "    shooting = pd.read_html(data1.text, match=\"Shooting\")[0]\n",
        "    shooting.columns = shooting.columns.droplevel()\n",
        "\n",
        "    try:\n",
        "      team_data = matches.merge(shooting[[\"Date\",\"Sh\",\"SoT\",\"Dist\",\"FK\",\"PK\",\"PKatt\"]],on=\"Date\")\n",
        "    except ValueError:\n",
        "      continue\n",
        "    team_data = team_data[team_data[\"Comp\"] == \"Premier League\"]\n",
        "    team_data[\"Season\"] = year\n",
        "    team_data[\"Team\"] = team_name\n",
        "    all_matches.append(team_data)\n",
        "    time.sleep(3)"
      ]
    },
    {
      "cell_type": "code",
      "execution_count": 9,
      "metadata": {
        "colab": {
          "base_uri": "https://localhost:8080/"
        },
        "id": "Eq5RTqEOZenN",
        "outputId": "9c7214d7-954d-4823-a719-effaa762d26a"
      },
      "outputs": [
        {
          "data": {
            "text/plain": [
              "20"
            ]
          },
          "execution_count": 9,
          "metadata": {},
          "output_type": "execute_result"
        }
      ],
      "source": [
        "len(all_matches)"
      ]
    },
    {
      "cell_type": "code",
      "execution_count": 10,
      "metadata": {
        "id": "dnScUKePZfIU"
      },
      "outputs": [],
      "source": [
        "match_df = pd.concat(all_matches)"
      ]
    },
    {
      "cell_type": "code",
      "execution_count": 11,
      "metadata": {
        "id": "4pBIPY_AZiAD"
      },
      "outputs": [],
      "source": [
        "match_df.columns = [c.lower() for c in match_df.columns]"
      ]
    },
    {
      "cell_type": "code",
      "execution_count": 12,
      "metadata": {
        "colab": {
          "base_uri": "https://localhost:8080/",
          "height": 1103
        },
        "id": "EWuZ_pxXZjVB",
        "outputId": "0ef59ad7-6fe3-4384-8181-471675709628"
      },
      "outputs": [
        {
          "data": {
            "text/html": [
              "<div>\n",
              "<style scoped>\n",
              "    .dataframe tbody tr th:only-of-type {\n",
              "        vertical-align: middle;\n",
              "    }\n",
              "\n",
              "    .dataframe tbody tr th {\n",
              "        vertical-align: top;\n",
              "    }\n",
              "\n",
              "    .dataframe thead th {\n",
              "        text-align: right;\n",
              "    }\n",
              "</style>\n",
              "<table border=\"1\" class=\"dataframe\">\n",
              "  <thead>\n",
              "    <tr style=\"text-align: right;\">\n",
              "      <th></th>\n",
              "      <th>date</th>\n",
              "      <th>time</th>\n",
              "      <th>comp</th>\n",
              "      <th>round</th>\n",
              "      <th>day</th>\n",
              "      <th>venue</th>\n",
              "      <th>result</th>\n",
              "      <th>gf</th>\n",
              "      <th>ga</th>\n",
              "      <th>opponent</th>\n",
              "      <th>...</th>\n",
              "      <th>match report</th>\n",
              "      <th>notes</th>\n",
              "      <th>sh</th>\n",
              "      <th>sot</th>\n",
              "      <th>dist</th>\n",
              "      <th>fk</th>\n",
              "      <th>pk</th>\n",
              "      <th>pkatt</th>\n",
              "      <th>season</th>\n",
              "      <th>team</th>\n",
              "    </tr>\n",
              "  </thead>\n",
              "  <tbody>\n",
              "    <tr>\n",
              "      <th>0</th>\n",
              "      <td>2023-08-13</td>\n",
              "      <td>16:30</td>\n",
              "      <td>Premier League</td>\n",
              "      <td>Matchweek 1</td>\n",
              "      <td>Sun</td>\n",
              "      <td>Away</td>\n",
              "      <td>D</td>\n",
              "      <td>1.0</td>\n",
              "      <td>1.0</td>\n",
              "      <td>Chelsea</td>\n",
              "      <td>...</td>\n",
              "      <td>Match Report</td>\n",
              "      <td>NaN</td>\n",
              "      <td>13.0</td>\n",
              "      <td>1.0</td>\n",
              "      <td>17.8</td>\n",
              "      <td>0.0</td>\n",
              "      <td>0</td>\n",
              "      <td>0</td>\n",
              "      <td>2022</td>\n",
              "      <td>Liverpool</td>\n",
              "    </tr>\n",
              "    <tr>\n",
              "      <th>1</th>\n",
              "      <td>2023-08-19</td>\n",
              "      <td>15:00</td>\n",
              "      <td>Premier League</td>\n",
              "      <td>Matchweek 2</td>\n",
              "      <td>Sat</td>\n",
              "      <td>Home</td>\n",
              "      <td>W</td>\n",
              "      <td>3.0</td>\n",
              "      <td>1.0</td>\n",
              "      <td>Bournemouth</td>\n",
              "      <td>...</td>\n",
              "      <td>Match Report</td>\n",
              "      <td>NaN</td>\n",
              "      <td>25.0</td>\n",
              "      <td>9.0</td>\n",
              "      <td>16.8</td>\n",
              "      <td>1.0</td>\n",
              "      <td>0</td>\n",
              "      <td>1</td>\n",
              "      <td>2022</td>\n",
              "      <td>Liverpool</td>\n",
              "    </tr>\n",
              "    <tr>\n",
              "      <th>2</th>\n",
              "      <td>2023-08-27</td>\n",
              "      <td>16:30</td>\n",
              "      <td>Premier League</td>\n",
              "      <td>Matchweek 3</td>\n",
              "      <td>Sun</td>\n",
              "      <td>Away</td>\n",
              "      <td>W</td>\n",
              "      <td>2.0</td>\n",
              "      <td>1.0</td>\n",
              "      <td>Newcastle Utd</td>\n",
              "      <td>...</td>\n",
              "      <td>Match Report</td>\n",
              "      <td>NaN</td>\n",
              "      <td>9.0</td>\n",
              "      <td>4.0</td>\n",
              "      <td>17.2</td>\n",
              "      <td>1.0</td>\n",
              "      <td>0</td>\n",
              "      <td>0</td>\n",
              "      <td>2022</td>\n",
              "      <td>Liverpool</td>\n",
              "    </tr>\n",
              "    <tr>\n",
              "      <th>3</th>\n",
              "      <td>2023-09-03</td>\n",
              "      <td>14:00</td>\n",
              "      <td>Premier League</td>\n",
              "      <td>Matchweek 4</td>\n",
              "      <td>Sun</td>\n",
              "      <td>Home</td>\n",
              "      <td>W</td>\n",
              "      <td>3.0</td>\n",
              "      <td>0.0</td>\n",
              "      <td>Aston Villa</td>\n",
              "      <td>...</td>\n",
              "      <td>Match Report</td>\n",
              "      <td>NaN</td>\n",
              "      <td>17.0</td>\n",
              "      <td>4.0</td>\n",
              "      <td>14.7</td>\n",
              "      <td>0.0</td>\n",
              "      <td>0</td>\n",
              "      <td>0</td>\n",
              "      <td>2022</td>\n",
              "      <td>Liverpool</td>\n",
              "    </tr>\n",
              "    <tr>\n",
              "      <th>4</th>\n",
              "      <td>2023-09-16</td>\n",
              "      <td>12:30</td>\n",
              "      <td>Premier League</td>\n",
              "      <td>Matchweek 5</td>\n",
              "      <td>Sat</td>\n",
              "      <td>Away</td>\n",
              "      <td>W</td>\n",
              "      <td>3.0</td>\n",
              "      <td>1.0</td>\n",
              "      <td>Wolves</td>\n",
              "      <td>...</td>\n",
              "      <td>Match Report</td>\n",
              "      <td>NaN</td>\n",
              "      <td>16.0</td>\n",
              "      <td>5.0</td>\n",
              "      <td>15.8</td>\n",
              "      <td>0.0</td>\n",
              "      <td>0</td>\n",
              "      <td>0</td>\n",
              "      <td>2022</td>\n",
              "      <td>Liverpool</td>\n",
              "    </tr>\n",
              "    <tr>\n",
              "      <th>...</th>\n",
              "      <td>...</td>\n",
              "      <td>...</td>\n",
              "      <td>...</td>\n",
              "      <td>...</td>\n",
              "      <td>...</td>\n",
              "      <td>...</td>\n",
              "      <td>...</td>\n",
              "      <td>...</td>\n",
              "      <td>...</td>\n",
              "      <td>...</td>\n",
              "      <td>...</td>\n",
              "      <td>...</td>\n",
              "      <td>...</td>\n",
              "      <td>...</td>\n",
              "      <td>...</td>\n",
              "      <td>...</td>\n",
              "      <td>...</td>\n",
              "      <td>...</td>\n",
              "      <td>...</td>\n",
              "      <td>...</td>\n",
              "      <td>...</td>\n",
              "    </tr>\n",
              "    <tr>\n",
              "      <th>20</th>\n",
              "      <td>2023-12-30</td>\n",
              "      <td>15:00</td>\n",
              "      <td>Premier League</td>\n",
              "      <td>Matchweek 20</td>\n",
              "      <td>Sat</td>\n",
              "      <td>Away</td>\n",
              "      <td>L</td>\n",
              "      <td>0</td>\n",
              "      <td>2</td>\n",
              "      <td>Manchester City</td>\n",
              "      <td>...</td>\n",
              "      <td>Match Report</td>\n",
              "      <td>NaN</td>\n",
              "      <td>4.0</td>\n",
              "      <td>2.0</td>\n",
              "      <td>14.9</td>\n",
              "      <td>0.0</td>\n",
              "      <td>0</td>\n",
              "      <td>0</td>\n",
              "      <td>2022</td>\n",
              "      <td>Sheffield United</td>\n",
              "    </tr>\n",
              "    <tr>\n",
              "      <th>22</th>\n",
              "      <td>2024-01-21</td>\n",
              "      <td>14:00</td>\n",
              "      <td>Premier League</td>\n",
              "      <td>Matchweek 21</td>\n",
              "      <td>Sun</td>\n",
              "      <td>Home</td>\n",
              "      <td>D</td>\n",
              "      <td>2</td>\n",
              "      <td>2</td>\n",
              "      <td>West Ham</td>\n",
              "      <td>...</td>\n",
              "      <td>Match Report</td>\n",
              "      <td>NaN</td>\n",
              "      <td>20.0</td>\n",
              "      <td>5.0</td>\n",
              "      <td>18.5</td>\n",
              "      <td>1.0</td>\n",
              "      <td>1</td>\n",
              "      <td>1</td>\n",
              "      <td>2022</td>\n",
              "      <td>Sheffield United</td>\n",
              "    </tr>\n",
              "    <tr>\n",
              "      <th>24</th>\n",
              "      <td>2024-01-30</td>\n",
              "      <td>20:00</td>\n",
              "      <td>Premier League</td>\n",
              "      <td>Matchweek 22</td>\n",
              "      <td>Tue</td>\n",
              "      <td>Away</td>\n",
              "      <td>L</td>\n",
              "      <td>2</td>\n",
              "      <td>3</td>\n",
              "      <td>Crystal Palace</td>\n",
              "      <td>...</td>\n",
              "      <td>Match Report</td>\n",
              "      <td>NaN</td>\n",
              "      <td>9.0</td>\n",
              "      <td>5.0</td>\n",
              "      <td>16.5</td>\n",
              "      <td>0.0</td>\n",
              "      <td>0</td>\n",
              "      <td>0</td>\n",
              "      <td>2022</td>\n",
              "      <td>Sheffield United</td>\n",
              "    </tr>\n",
              "    <tr>\n",
              "      <th>25</th>\n",
              "      <td>2024-02-03</td>\n",
              "      <td>17:30</td>\n",
              "      <td>Premier League</td>\n",
              "      <td>Matchweek 23</td>\n",
              "      <td>Sat</td>\n",
              "      <td>Home</td>\n",
              "      <td>L</td>\n",
              "      <td>0</td>\n",
              "      <td>5</td>\n",
              "      <td>Aston Villa</td>\n",
              "      <td>...</td>\n",
              "      <td>Match Report</td>\n",
              "      <td>NaN</td>\n",
              "      <td>10.0</td>\n",
              "      <td>4.0</td>\n",
              "      <td>10.0</td>\n",
              "      <td>0.0</td>\n",
              "      <td>0</td>\n",
              "      <td>0</td>\n",
              "      <td>2022</td>\n",
              "      <td>Sheffield United</td>\n",
              "    </tr>\n",
              "    <tr>\n",
              "      <th>26</th>\n",
              "      <td>2024-02-10</td>\n",
              "      <td>15:00</td>\n",
              "      <td>Premier League</td>\n",
              "      <td>Matchweek 24</td>\n",
              "      <td>Sat</td>\n",
              "      <td>Away</td>\n",
              "      <td>W</td>\n",
              "      <td>3</td>\n",
              "      <td>1</td>\n",
              "      <td>Luton Town</td>\n",
              "      <td>...</td>\n",
              "      <td>Match Report</td>\n",
              "      <td>NaN</td>\n",
              "      <td>6.0</td>\n",
              "      <td>2.0</td>\n",
              "      <td>22.4</td>\n",
              "      <td>0.0</td>\n",
              "      <td>1</td>\n",
              "      <td>1</td>\n",
              "      <td>2022</td>\n",
              "      <td>Sheffield United</td>\n",
              "    </tr>\n",
              "  </tbody>\n",
              "</table>\n",
              "<p>476 rows × 27 columns</p>\n",
              "</div>"
            ],
            "text/plain": [
              "          date   time            comp         round  day venue result   gf  \\\n",
              "0   2023-08-13  16:30  Premier League   Matchweek 1  Sun  Away      D  1.0   \n",
              "1   2023-08-19  15:00  Premier League   Matchweek 2  Sat  Home      W  3.0   \n",
              "2   2023-08-27  16:30  Premier League   Matchweek 3  Sun  Away      W  2.0   \n",
              "3   2023-09-03  14:00  Premier League   Matchweek 4  Sun  Home      W  3.0   \n",
              "4   2023-09-16  12:30  Premier League   Matchweek 5  Sat  Away      W  3.0   \n",
              "..         ...    ...             ...           ...  ...   ...    ...  ...   \n",
              "20  2023-12-30  15:00  Premier League  Matchweek 20  Sat  Away      L    0   \n",
              "22  2024-01-21  14:00  Premier League  Matchweek 21  Sun  Home      D    2   \n",
              "24  2024-01-30  20:00  Premier League  Matchweek 22  Tue  Away      L    2   \n",
              "25  2024-02-03  17:30  Premier League  Matchweek 23  Sat  Home      L    0   \n",
              "26  2024-02-10  15:00  Premier League  Matchweek 24  Sat  Away      W    3   \n",
              "\n",
              "     ga         opponent  ...  match report  notes    sh  sot  dist   fk pk  \\\n",
              "0   1.0          Chelsea  ...  Match Report    NaN  13.0  1.0  17.8  0.0  0   \n",
              "1   1.0      Bournemouth  ...  Match Report    NaN  25.0  9.0  16.8  1.0  0   \n",
              "2   1.0    Newcastle Utd  ...  Match Report    NaN   9.0  4.0  17.2  1.0  0   \n",
              "3   0.0      Aston Villa  ...  Match Report    NaN  17.0  4.0  14.7  0.0  0   \n",
              "4   1.0           Wolves  ...  Match Report    NaN  16.0  5.0  15.8  0.0  0   \n",
              "..  ...              ...  ...           ...    ...   ...  ...   ...  ... ..   \n",
              "20    2  Manchester City  ...  Match Report    NaN   4.0  2.0  14.9  0.0  0   \n",
              "22    2         West Ham  ...  Match Report    NaN  20.0  5.0  18.5  1.0  1   \n",
              "24    3   Crystal Palace  ...  Match Report    NaN   9.0  5.0  16.5  0.0  0   \n",
              "25    5      Aston Villa  ...  Match Report    NaN  10.0  4.0  10.0  0.0  0   \n",
              "26    1       Luton Town  ...  Match Report    NaN   6.0  2.0  22.4  0.0  1   \n",
              "\n",
              "   pkatt season              team  \n",
              "0      0   2022         Liverpool  \n",
              "1      1   2022         Liverpool  \n",
              "2      0   2022         Liverpool  \n",
              "3      0   2022         Liverpool  \n",
              "4      0   2022         Liverpool  \n",
              "..   ...    ...               ...  \n",
              "20     0   2022  Sheffield United  \n",
              "22     1   2022  Sheffield United  \n",
              "24     0   2022  Sheffield United  \n",
              "25     0   2022  Sheffield United  \n",
              "26     1   2022  Sheffield United  \n",
              "\n",
              "[476 rows x 27 columns]"
            ]
          },
          "execution_count": 12,
          "metadata": {},
          "output_type": "execute_result"
        }
      ],
      "source": [
        "match_df"
      ]
    },
    {
      "cell_type": "code",
      "execution_count": 13,
      "metadata": {
        "id": "kHCKOCs1Zqf5"
      },
      "outputs": [],
      "source": [
        "#import menjadi csv file\n",
        "match_df.to_csv(\"matches.csv\")"
      ]
    },
    {
      "cell_type": "code",
      "execution_count": null,
      "metadata": {
        "id": "f5SnTOdmZqlv"
      },
      "outputs": [],
      "source": []
    }
  ],
  "metadata": {
    "colab": {
      "provenance": []
    },
    "kernelspec": {
      "display_name": "Python 3",
      "language": "python",
      "name": "python3"
    },
    "language_info": {
      "codemirror_mode": {
        "name": "ipython",
        "version": 3
      },
      "file_extension": ".py",
      "mimetype": "text/x-python",
      "name": "python",
      "nbconvert_exporter": "python",
      "pygments_lexer": "ipython3",
      "version": "3.8.0"
    },
    "vscode": {
      "interpreter": {
        "hash": "710fa03fa45468af93a6b26e1b91885f071cfe5c2c541386a49b38b24c10b5c7"
      }
    }
  },
  "nbformat": 4,
  "nbformat_minor": 0
}
